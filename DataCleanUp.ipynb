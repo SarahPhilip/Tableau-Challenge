{
 "cells": [
  {
   "cell_type": "code",
   "execution_count": 2,
   "metadata": {},
   "outputs": [],
   "source": [
    "import pandas as pd\n",
    "\n",
    "jan = pd.read_csv(\"201701-citibike-tripdata.csv\")\n",
    "feb = pd.read_csv(\"201702-citibike-tripdata.csv\")\n",
    "mar = pd.read_csv(\"201703-citibike-tripdata.csv\")\n",
    "apr = pd.read_csv(\"201704-citibike-tripdata.csv\")\n",
    "may = pd.read_csv(\"201705-citibike-tripdata.csv\")\n",
    "jun = pd.read_csv(\"201706-citibike-tripdata.csv\")\n",
    "# jul = pd.read_csv(\"201707-citibike-tripdata.csv\")\n",
    "# aug = pd.read_csv(\"201708-citibike-tripdata.csv\")\n",
    "# sep = pd.read_csv(\"201709-citibike-tripdata.csv\")\n",
    "# oct = pd.read_csv(\"201710-citibike-tripdata.csv\")\n",
    "# nov = pd.read_csv(\"201711-citibike-tripdata.csv\")\n",
    "# dec = pd.read_csv(\"201712-citibike-tripdata.csv\")\n",
    "\n",
    "\n",
    "data_2017 = pd.concat([jan, feb, mar, apr, may, jun])\n",
    "data_2017.to_csv(\"data_2017.csv\", index=False)\n"
   ]
  },
  {
   "cell_type": "code",
   "execution_count": null,
   "metadata": {},
   "outputs": [],
   "source": []
  }
 ],
 "metadata": {
  "kernelspec": {
   "display_name": "Python [conda env:PythonData]",
   "language": "python",
   "name": "conda-env-PythonData-py"
  },
  "language_info": {
   "codemirror_mode": {
    "name": "ipython",
    "version": 3
   },
   "file_extension": ".py",
   "mimetype": "text/x-python",
   "name": "python",
   "nbconvert_exporter": "python",
   "pygments_lexer": "ipython3",
   "version": "3.6.5"
  }
 },
 "nbformat": 4,
 "nbformat_minor": 2
}
